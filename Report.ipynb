{
  "cells": [
    {
      "cell_type": "markdown",
      "id": "5b2dcf7c",
      "metadata": {
        "id": "5b2dcf7c"
      },
      "source": [
        "# Báo cáo đồ án môn \"Khoa học dữ liệu ứng dụng\"\n",
        "\n",
        "Nhóm 2:\n",
        "\n",
        "1.   1712892 - Nguyễn Thị Tuyết - (Đang bệnh)\n",
        "2.   1712898 - Trần Việt Văn - tvvan99\n",
        "3.   1712685 - Trần Huy Phượng - nomiku1999\n",
        "\n",
        "Link thùng chứa Github của nhóm: https://github.com/nomiku1999/KTDLUD"
      ]
    },
    {
      "cell_type": "markdown",
      "id": "2f93d974",
      "metadata": {
        "id": "2f93d974"
      },
      "source": [
        "\n",
        "## Mô tả bài toán"
      ]
    },
    {
      "cell_type": "markdown",
      "id": "dc0bf646",
      "metadata": {
        "id": "dc0bf646"
      },
      "source": [
        "* **Tên cuộc thi**: March Machine Learning Mania 2021 - NCAAM\n",
        "Predict the 2021 NCAAM Basketball Tournament\n",
        "\n",
        "* **Mô tả**: Dự đoán kết quả của giải thi đấu bóng rổ NCAA 2021 dành cho nam dựa trên dữ liệu lịch sử trận đấu được lưu trữ trước đó\n",
        "* **Input**: Dữ liệu được cung cấp bao gồm lịch sử các trận đấu của giải\n",
        "* **Output**: Model dự đoán kết quả của các trận đấu, tỉ lệ thắng của đội có id đứng trước so với đội có id đứng sau\n",
        "\n",
        "Link to competition\n",
        "https://www.kaggle.com/competitions/ncaam-march-mania-2021/overview/description"
      ]
    },
    {
      "cell_type": "markdown",
      "id": "d48122eb",
      "metadata": {
        "id": "d48122eb"
      },
      "source": [
        "## Giải quyết bài toán"
      ]
    },
    {
      "cell_type": "markdown",
      "id": "483e6c5d",
      "metadata": {
        "id": "483e6c5d"
      },
      "source": [
        "###1.Ý tưởng"
      ]
    },
    {
      "cell_type": "markdown",
      "source": [
        "Sử dụng các thuật toán machine learning để dự đoán kết quả trận đấu dựa trên dữ liệu các trận đấu trong lịch sử, train 1 vài model thông dụng để chọn được model với metric tốt nhất cho dataset\n",
        "\n",
        "Sử dụng dữ liệu từ 3 csv file:\n",
        "* MRegularSeasonCompactResults: dữ liệu lịch sử trận đấu, gồm đội thắng, đội thua, điểm số\n",
        "* MRegularSeasonDetailedResults: dữ liệu lịch sử chi tiết bao gồm thêm 1 số field chứa thông tin thêm của trận đấu\n",
        "* MMasseyOrdinals: dữ liệu chứa ranking của các đội\n",
        "\n",
        "Submission file:\n",
        "* MSampleSubmission chứa 2 field, field đầu tiên là id của trận đấu, field thứ 2 chứa xác suất team có id nhỏ hơn đứng trước thắng trận đấu (field này phải predict)\n",
        "\n",
        "Ex: \n",
        "\n",
        "    2015_1107_1110,0.5\n",
        "    2015_1107_1112,0.5\n",
        "    2015_1107_1113,0.5\n",
        "\n",
        "Số đầu tiên biểu thị cho năm, số thứ 2 là id của đội đầu tiên, số thứ 3 là id của đội thứ hai, số cuối cùng (sau dấy phẩy) biểu thị xác suất đội đầu tiên thắng đội thứ 2"
      ],
      "metadata": {
        "id": "o8ld0kROIdcx"
      },
      "id": "o8ld0kROIdcx"
    },
    {
      "cell_type": "markdown",
      "source": [
        "###2. Solution"
      ],
      "metadata": {
        "id": "zLdjR8J1MiGT"
      },
      "id": "zLdjR8J1MiGT"
    },
    {
      "cell_type": "markdown",
      "source": [
        "####a/ Thông tin chung"
      ],
      "metadata": {
        "id": "40aBS8nsOtAL"
      },
      "id": "40aBS8nsOtAL"
    },
    {
      "cell_type": "markdown",
      "source": [
        "Nhóm sẽ sử dụng solution rank 9 tại private leaderboard\n",
        "\n",
        "Link to solution: https://www.kaggle.com/c/ncaam-march-mania-2021/discussion/230991\n",
        "\n",
        "Data input: Dữ liệu cũ đến trước năm 2015\n",
        "\n",
        "Data test: Dữ liệu từ 2015 trở đi\n",
        "\n"
      ],
      "metadata": {
        "id": "DZCXRDwoMk8H"
      },
      "id": "DZCXRDwoMk8H"
    },
    {
      "cell_type": "markdown",
      "source": [
        "####b/ Tóm tắt các bước thực hiện"
      ],
      "metadata": {
        "id": "xrS_9sN9Ozaw"
      },
      "id": "xrS_9sN9Ozaw"
    },
    {
      "cell_type": "markdown",
      "source": [
        "\n",
        "\n",
        "1.   Cleaning and extracting data from source\n",
        "2.   Build multiple model for predicting\n",
        "3.   Calculating metric for algorithms, choose the best model for predicting match result\n",
        "\n"
      ],
      "metadata": {
        "id": "ZYe6-ip2O9kb"
      },
      "id": "ZYe6-ip2O9kb"
    },
    {
      "cell_type": "markdown",
      "source": [
        "####c/ Lí do lựa chọn"
      ],
      "metadata": {
        "id": "NnDB7Qb9O6UA"
      },
      "id": "NnDB7Qb9O6UA"
    },
    {
      "cell_type": "markdown",
      "source": [
        "Lí do lựa chọn:\n",
        "* Sử dụng data dạng table, dễ thao tác, tối ưu hóa phần cứng.\n",
        "* Solution sử dụng cùng lúc nhiều model để predict, các model dễ hiểu và tiếp cận với nhóm."
      ],
      "metadata": {
        "id": "XlU7PJLLNsPw"
      },
      "id": "XlU7PJLLNsPw"
    },
    {
      "cell_type": "markdown",
      "source": [
        "###3. Cài đặt"
      ],
      "metadata": {
        "id": "Hb1_pYsxNnOz"
      },
      "id": "Hb1_pYsxNnOz"
    },
    {
      "cell_type": "markdown",
      "id": "337c34ef",
      "metadata": {
        "id": "337c34ef"
      },
      "source": [
        "## Nhìn lại quá trình làm đồ án"
      ]
    },
    {
      "cell_type": "markdown",
      "id": "4ae45e1e",
      "metadata": {
        "id": "4ae45e1e"
      },
      "source": [
        "## Tài liệu tham khảo"
      ]
    }
  ],
  "metadata": {
    "kernelspec": {
      "display_name": "Python 3 (ipykernel)",
      "language": "python",
      "name": "python3"
    },
    "language_info": {
      "codemirror_mode": {
        "name": "ipython",
        "version": 3
      },
      "file_extension": ".py",
      "mimetype": "text/x-python",
      "name": "python",
      "nbconvert_exporter": "python",
      "pygments_lexer": "ipython3",
      "version": "3.8.8"
    },
    "toc": {
      "base_numbering": 1,
      "nav_menu": {},
      "number_sections": true,
      "sideBar": true,
      "skip_h1_title": false,
      "title_cell": "Table of Contents",
      "title_sidebar": "Contents",
      "toc_cell": false,
      "toc_position": {},
      "toc_section_display": true,
      "toc_window_display": false
    },
    "colab": {
      "name": "Report.ipynb",
      "provenance": [],
      "toc_visible": true
    }
  },
  "nbformat": 4,
  "nbformat_minor": 5
}